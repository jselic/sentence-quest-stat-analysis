{
 "cells": [
  {
   "cell_type": "code",
   "execution_count": 1,
   "id": "903459f5",
   "metadata": {},
   "outputs": [],
   "source": [
    "import pandas as pd\n",
    "import numpy as np\n",
    "from collections import Counter\n",
    "import random\n",
    "from scipy.stats import hypergeom\n",
    "import matplotlib.pyplot as plt"
   ]
  },
  {
   "cell_type": "code",
   "execution_count": 2,
   "id": "d9539053",
   "metadata": {},
   "outputs": [],
   "source": [
    "df = pd.read_excel(\"Sentence Quest WORDS.xlsx\")\n",
    "word_dict = {}\n",
    "for col in df.columns:\n",
    "    for word in df[col]:\n",
    "        word_dict[word] = col\n",
    "        \n",
    "word_dict = {key: value for key, value in word_dict.items() if isinstance(key, str)}"
   ]
  },
  {
   "cell_type": "code",
   "execution_count": 3,
   "id": "2cd1379e",
   "metadata": {},
   "outputs": [
    {
     "data": {
      "text/plain": [
       "{'ADJECTIVE',\n",
       " 'ADVERB',\n",
       " 'LINKING WORDS',\n",
       " 'OBJECT-NOUN',\n",
       " 'PREPOSITON',\n",
       " 'SUBJECT - NOUN',\n",
       " 'TIME ADVERB',\n",
       " 'action VERBS',\n",
       " 'modal VERBS',\n",
       " 'negation',\n",
       " 'sative VERBS'}"
      ]
     },
     "execution_count": 3,
     "metadata": {},
     "output_type": "execute_result"
    }
   ],
   "source": [
    "set(word_dict.values())"
   ]
  },
  {
   "cell_type": "code",
   "execution_count": 4,
   "id": "a64bee26",
   "metadata": {},
   "outputs": [
    {
     "name": "stdout",
     "output_type": "stream",
     "text": [
      "Word Type Distribution:\n",
      "SUBJECT - NOUN: 14.97%\n",
      "action VERBS: 17.01%\n",
      "sative VERBS: 1.36%\n",
      "modal VERBS: 2.04%\n",
      "negation: 0.68%\n",
      "OBJECT-NOUN: 24.49%\n",
      "PREPOSITON: 7.48%\n",
      "TIME ADVERB: 5.44%\n",
      "ADVERB: 6.12%\n",
      "ADJECTIVE: 16.33%\n",
      "LINKING WORDS: 4.08%\n"
     ]
    }
   ],
   "source": [
    "# Extract values (types) and count occurrences using Counter\n",
    "type_counts = Counter(word_dict.values())\n",
    "\n",
    "# Calculate total number of words\n",
    "total_words = len(word_dict)\n",
    "\n",
    "# Calculate distribution percentages\n",
    "distribution = {word_type: count / total_words * 100 for word_type, count in type_counts.items()}\n",
    "\n",
    "print(\"Word Type Distribution:\")\n",
    "for word_type, percentage in distribution.items():\n",
    "    print(f\"{word_type}: {percentage:.2f}%\")"
   ]
  },
  {
   "cell_type": "code",
   "execution_count": 54,
   "id": "9dccdd07",
   "metadata": {},
   "outputs": [],
   "source": [
    "og_dist = {\n",
    "    'SUBJECT - NOUN': 22,\n",
    "    'LINKING WORDS': 6,\n",
    "    'action VERBS': 25,\n",
    "    'sative VERBS': 2,\n",
    "    'modal VERBS': 3,\n",
    "    'negation': 1,\n",
    "    'OBJECT-NOUN': 36,\n",
    "    'PREPOSITON': 11,\n",
    "    'TIME ADVERB': 8,\n",
    "    'ADVERB': 9,\n",
    "    'ADJECTIVE': 24\n",
    "}\n",
    "augmentation = {\n",
    "    'SUBJECT - NOUN': 26,\n",
    "    'LINKING WORDS': 4,\n",
    "    'action VERBS': 27,\n",
    "    'sative VERBS': 8,\n",
    "    'modal VERBS': 5,\n",
    "    'negation': 3,\n",
    "    'OBJECT-NOUN': 30,\n",
    "    'PREPOSITON': 9,\n",
    "    'TIME ADVERB': 8,\n",
    "    'ADVERB': 10,\n",
    "    'ADJECTIVE': 18\n",
    "}\n",
    "DEFAULT_DISTRIBUTION = augmentation\n",
    "DEFAULT_WORD_COUNT = sum(list(DEFAULT_DISTRIBUTION.values()))\n",
    "INITIAL_CARDS = 8"
   ]
  },
  {
   "cell_type": "code",
   "execution_count": 55,
   "id": "845f9cc7",
   "metadata": {},
   "outputs": [
    {
     "data": {
      "text/plain": [
       "147"
      ]
     },
     "execution_count": 55,
     "metadata": {},
     "output_type": "execute_result"
    }
   ],
   "source": [
    "DEFAULT_WORD_COUNT"
   ]
  },
  {
   "cell_type": "markdown",
   "id": "0716aca3",
   "metadata": {},
   "source": [
    "## Statistical analysis"
   ]
  },
  {
   "cell_type": "markdown",
   "id": "c9b52b9e",
   "metadata": {},
   "source": [
    "### Subject quantity problem"
   ]
  },
  {
   "cell_type": "code",
   "execution_count": 56,
   "id": "bf39e9b6",
   "metadata": {},
   "outputs": [
    {
     "data": {
      "text/plain": [
       "0.22508158638140946"
      ]
     },
     "execution_count": 56,
     "metadata": {},
     "output_type": "execute_result"
    }
   ],
   "source": [
    "#Probability, that a player will not draw a single subject card in the opening round\n",
    "share_not_subjects = (DEFAULT_WORD_COUNT-DEFAULT_DISTRIBUTION['SUBJECT - NOUN'])/DEFAULT_WORD_COUNT\n",
    "(share_not_subjects)**INITIAL_CARDS"
   ]
  },
  {
   "cell_type": "code",
   "execution_count": 57,
   "id": "b2deb091",
   "metadata": {},
   "outputs": [
    {
     "name": "stdout",
     "output_type": "stream",
     "text": [
      "0.18680240502402692\n"
     ]
    }
   ],
   "source": [
    "##And after the first\n",
    "print((share_not_subjects)**(INITIAL_CARDS+1))"
   ]
  },
  {
   "cell_type": "code",
   "execution_count": 58,
   "id": "4488d026",
   "metadata": {},
   "outputs": [
    {
     "name": "stdout",
     "output_type": "stream",
     "text": [
      "0.15503328852334208\n"
     ]
    }
   ],
   "source": [
    "#and second round\n",
    "print((share_not_subjects)**(INITIAL_CARDS+2))"
   ]
  },
  {
   "cell_type": "markdown",
   "id": "808915c4",
   "metadata": {},
   "source": [
    "If we allow objects to act, rather than only to be acted upon, we get better numbers."
   ]
  },
  {
   "cell_type": "code",
   "execution_count": 59,
   "id": "2b11a399",
   "metadata": {},
   "outputs": [],
   "source": [
    "share_not_nouns = (DEFAULT_WORD_COUNT-DEFAULT_DISTRIBUTION['SUBJECT - NOUN']-DEFAULT_DISTRIBUTION['OBJECT-NOUN'])/DEFAULT_WORD_COUNT"
   ]
  },
  {
   "cell_type": "code",
   "execution_count": 60,
   "id": "da713bbe",
   "metadata": {},
   "outputs": [
    {
     "data": {
      "text/plain": [
       "0.023537695530621218"
      ]
     },
     "execution_count": 60,
     "metadata": {},
     "output_type": "execute_result"
    }
   ],
   "source": [
    "#Probability that a player will not draw a single noun card in the opening round\n",
    "(share_not_nouns)**INITIAL_CARDS"
   ]
  },
  {
   "cell_type": "markdown",
   "id": "db77d66f",
   "metadata": {},
   "source": [
    "So if we do not allow objects to act, we need to increase the number of subjects, probably at the cost of objects"
   ]
  },
  {
   "cell_type": "code",
   "execution_count": 61,
   "id": "a4d7fd27",
   "metadata": {},
   "outputs": [],
   "source": [
    "probabilities = {'Word Type': [], 'Round 0': [], 'Round 1': [], 'Round 2': [], 'Round 3': [], 'Round 4': [], 'Round 5': [], '2P Round 0': [] ,'3P Round 0': [], '4P Round 0': [], 'EV first draw': [], '3P Round 2': [], '4P Round 2': []}\n",
    "\n",
    "for word_type, quantity in DEFAULT_DISTRIBUTION.items():\n",
    "    probability_not_drawn = 1 - (quantity / DEFAULT_WORD_COUNT)\n",
    "    probabilities['Word Type'].append(word_type)\n",
    "    for round_num in range(6):\n",
    "        probabilities[f'Round {round_num}'].append(probability_not_drawn ** (INITIAL_CARDS + round_num))\n",
    "        \n",
    "    for players in range(2, 5):\n",
    "        probabilities[f'{players}P Round 0'].append(probability_not_drawn ** (INITIAL_CARDS * (players)))\n",
    "        \n",
    "    for players in range(3, 5):\n",
    "        probabilities[f'{players}P Round 2'].append(probability_not_drawn ** (INITIAL_CARDS * (players) + (players*2)))\n",
    "        \n",
    "    probabilities['EV first draw'].append(round(1/(quantity/DEFAULT_WORD_COUNT)))"
   ]
  },
  {
   "cell_type": "code",
   "execution_count": 62,
   "id": "6db2ddb7",
   "metadata": {},
   "outputs": [],
   "source": [
    "stats_df = pd.DataFrame(probabilities)"
   ]
  },
  {
   "cell_type": "code",
   "execution_count": 63,
   "id": "df89468a",
   "metadata": {},
   "outputs": [
    {
     "data": {
      "text/html": [
       "<div>\n",
       "<style scoped>\n",
       "    .dataframe tbody tr th:only-of-type {\n",
       "        vertical-align: middle;\n",
       "    }\n",
       "\n",
       "    .dataframe tbody tr th {\n",
       "        vertical-align: top;\n",
       "    }\n",
       "\n",
       "    .dataframe thead th {\n",
       "        text-align: right;\n",
       "    }\n",
       "</style>\n",
       "<table border=\"1\" class=\"dataframe\">\n",
       "  <thead>\n",
       "    <tr style=\"text-align: right;\">\n",
       "      <th></th>\n",
       "      <th>Word Type</th>\n",
       "      <th>Round 0</th>\n",
       "      <th>Round 1</th>\n",
       "      <th>Round 2</th>\n",
       "      <th>Round 3</th>\n",
       "      <th>Round 4</th>\n",
       "      <th>Round 5</th>\n",
       "      <th>2P Round 0</th>\n",
       "      <th>3P Round 0</th>\n",
       "      <th>4P Round 0</th>\n",
       "      <th>EV first draw</th>\n",
       "      <th>3P Round 2</th>\n",
       "      <th>4P Round 2</th>\n",
       "    </tr>\n",
       "  </thead>\n",
       "  <tbody>\n",
       "    <tr>\n",
       "      <th>0</th>\n",
       "      <td>SUBJECT - NOUN</td>\n",
       "      <td>0.225082</td>\n",
       "      <td>0.186802</td>\n",
       "      <td>0.155033</td>\n",
       "      <td>0.128667</td>\n",
       "      <td>0.106785</td>\n",
       "      <td>0.088624</td>\n",
       "      <td>0.050662</td>\n",
       "      <td>0.011403</td>\n",
       "      <td>0.002567</td>\n",
       "      <td>6</td>\n",
       "      <td>0.003726</td>\n",
       "      <td>0.000578</td>\n",
       "    </tr>\n",
       "    <tr>\n",
       "      <th>1</th>\n",
       "      <td>LINKING WORDS</td>\n",
       "      <td>0.801954</td>\n",
       "      <td>0.780132</td>\n",
       "      <td>0.758904</td>\n",
       "      <td>0.738254</td>\n",
       "      <td>0.718165</td>\n",
       "      <td>0.698623</td>\n",
       "      <td>0.643131</td>\n",
       "      <td>0.515761</td>\n",
       "      <td>0.413617</td>\n",
       "      <td>37</td>\n",
       "      <td>0.437080</td>\n",
       "      <td>0.331702</td>\n",
       "    </tr>\n",
       "    <tr>\n",
       "      <th>2</th>\n",
       "      <td>action VERBS</td>\n",
       "      <td>0.197202</td>\n",
       "      <td>0.160981</td>\n",
       "      <td>0.131413</td>\n",
       "      <td>0.107276</td>\n",
       "      <td>0.087572</td>\n",
       "      <td>0.071488</td>\n",
       "      <td>0.038889</td>\n",
       "      <td>0.007669</td>\n",
       "      <td>0.001512</td>\n",
       "      <td>5</td>\n",
       "      <td>0.002269</td>\n",
       "      <td>0.000298</td>\n",
       "    </tr>\n",
       "    <tr>\n",
       "      <th>3</th>\n",
       "      <td>sative VERBS</td>\n",
       "      <td>0.639116</td>\n",
       "      <td>0.604334</td>\n",
       "      <td>0.571445</td>\n",
       "      <td>0.540346</td>\n",
       "      <td>0.510940</td>\n",
       "      <td>0.483133</td>\n",
       "      <td>0.408469</td>\n",
       "      <td>0.261059</td>\n",
       "      <td>0.166847</td>\n",
       "      <td>18</td>\n",
       "      <td>0.186605</td>\n",
       "      <td>0.106635</td>\n",
       "    </tr>\n",
       "    <tr>\n",
       "      <th>4</th>\n",
       "      <td>modal VERBS</td>\n",
       "      <td>0.758173</td>\n",
       "      <td>0.732384</td>\n",
       "      <td>0.707473</td>\n",
       "      <td>0.683410</td>\n",
       "      <td>0.660164</td>\n",
       "      <td>0.637710</td>\n",
       "      <td>0.574826</td>\n",
       "      <td>0.435817</td>\n",
       "      <td>0.330425</td>\n",
       "      <td>29</td>\n",
       "      <td>0.354104</td>\n",
       "      <td>0.250519</td>\n",
       "    </tr>\n",
       "    <tr>\n",
       "      <th>5</th>\n",
       "      <td>negation</td>\n",
       "      <td>0.847932</td>\n",
       "      <td>0.830628</td>\n",
       "      <td>0.813676</td>\n",
       "      <td>0.797070</td>\n",
       "      <td>0.780804</td>\n",
       "      <td>0.764869</td>\n",
       "      <td>0.718989</td>\n",
       "      <td>0.609654</td>\n",
       "      <td>0.516946</td>\n",
       "      <td>49</td>\n",
       "      <td>0.538710</td>\n",
       "      <td>0.438335</td>\n",
       "    </tr>\n",
       "    <tr>\n",
       "      <th>6</th>\n",
       "      <td>OBJECT-NOUN</td>\n",
       "      <td>0.161045</td>\n",
       "      <td>0.128179</td>\n",
       "      <td>0.102020</td>\n",
       "      <td>0.081200</td>\n",
       "      <td>0.064628</td>\n",
       "      <td>0.051439</td>\n",
       "      <td>0.025936</td>\n",
       "      <td>0.004177</td>\n",
       "      <td>0.000673</td>\n",
       "      <td>5</td>\n",
       "      <td>0.001062</td>\n",
       "      <td>0.000108</td>\n",
       "    </tr>\n",
       "    <tr>\n",
       "      <th>7</th>\n",
       "      <td>PREPOSITON</td>\n",
       "      <td>0.603245</td>\n",
       "      <td>0.566312</td>\n",
       "      <td>0.531640</td>\n",
       "      <td>0.499090</td>\n",
       "      <td>0.468534</td>\n",
       "      <td>0.439848</td>\n",
       "      <td>0.363905</td>\n",
       "      <td>0.219524</td>\n",
       "      <td>0.132427</td>\n",
       "      <td>16</td>\n",
       "      <td>0.150263</td>\n",
       "      <td>0.079886</td>\n",
       "    </tr>\n",
       "    <tr>\n",
       "      <th>8</th>\n",
       "      <td>TIME ADVERB</td>\n",
       "      <td>0.639116</td>\n",
       "      <td>0.604334</td>\n",
       "      <td>0.571445</td>\n",
       "      <td>0.540346</td>\n",
       "      <td>0.510940</td>\n",
       "      <td>0.483133</td>\n",
       "      <td>0.408469</td>\n",
       "      <td>0.261059</td>\n",
       "      <td>0.166847</td>\n",
       "      <td>18</td>\n",
       "      <td>0.186605</td>\n",
       "      <td>0.106635</td>\n",
       "    </tr>\n",
       "    <tr>\n",
       "      <th>9</th>\n",
       "      <td>ADVERB</td>\n",
       "      <td>0.569149</td>\n",
       "      <td>0.530431</td>\n",
       "      <td>0.494347</td>\n",
       "      <td>0.460718</td>\n",
       "      <td>0.429377</td>\n",
       "      <td>0.400168</td>\n",
       "      <td>0.323930</td>\n",
       "      <td>0.184365</td>\n",
       "      <td>0.104931</td>\n",
       "      <td>15</td>\n",
       "      <td>0.120808</td>\n",
       "      <td>0.059721</td>\n",
       "    </tr>\n",
       "    <tr>\n",
       "      <th>10</th>\n",
       "      <td>ADJECTIVE</td>\n",
       "      <td>0.351705</td>\n",
       "      <td>0.308639</td>\n",
       "      <td>0.270847</td>\n",
       "      <td>0.237682</td>\n",
       "      <td>0.208578</td>\n",
       "      <td>0.183038</td>\n",
       "      <td>0.123697</td>\n",
       "      <td>0.043505</td>\n",
       "      <td>0.015301</td>\n",
       "      <td>8</td>\n",
       "      <td>0.019869</td>\n",
       "      <td>0.005381</td>\n",
       "    </tr>\n",
       "  </tbody>\n",
       "</table>\n",
       "</div>"
      ],
      "text/plain": [
       "         Word Type   Round 0   Round 1   Round 2   Round 3   Round 4  \\\n",
       "0   SUBJECT - NOUN  0.225082  0.186802  0.155033  0.128667  0.106785   \n",
       "1    LINKING WORDS  0.801954  0.780132  0.758904  0.738254  0.718165   \n",
       "2     action VERBS  0.197202  0.160981  0.131413  0.107276  0.087572   \n",
       "3     sative VERBS  0.639116  0.604334  0.571445  0.540346  0.510940   \n",
       "4      modal VERBS  0.758173  0.732384  0.707473  0.683410  0.660164   \n",
       "5         negation  0.847932  0.830628  0.813676  0.797070  0.780804   \n",
       "6      OBJECT-NOUN  0.161045  0.128179  0.102020  0.081200  0.064628   \n",
       "7       PREPOSITON  0.603245  0.566312  0.531640  0.499090  0.468534   \n",
       "8      TIME ADVERB  0.639116  0.604334  0.571445  0.540346  0.510940   \n",
       "9           ADVERB  0.569149  0.530431  0.494347  0.460718  0.429377   \n",
       "10       ADJECTIVE  0.351705  0.308639  0.270847  0.237682  0.208578   \n",
       "\n",
       "     Round 5  2P Round 0  3P Round 0  4P Round 0  EV first draw  3P Round 2  \\\n",
       "0   0.088624    0.050662    0.011403    0.002567              6    0.003726   \n",
       "1   0.698623    0.643131    0.515761    0.413617             37    0.437080   \n",
       "2   0.071488    0.038889    0.007669    0.001512              5    0.002269   \n",
       "3   0.483133    0.408469    0.261059    0.166847             18    0.186605   \n",
       "4   0.637710    0.574826    0.435817    0.330425             29    0.354104   \n",
       "5   0.764869    0.718989    0.609654    0.516946             49    0.538710   \n",
       "6   0.051439    0.025936    0.004177    0.000673              5    0.001062   \n",
       "7   0.439848    0.363905    0.219524    0.132427             16    0.150263   \n",
       "8   0.483133    0.408469    0.261059    0.166847             18    0.186605   \n",
       "9   0.400168    0.323930    0.184365    0.104931             15    0.120808   \n",
       "10  0.183038    0.123697    0.043505    0.015301              8    0.019869   \n",
       "\n",
       "    4P Round 2  \n",
       "0     0.000578  \n",
       "1     0.331702  \n",
       "2     0.000298  \n",
       "3     0.106635  \n",
       "4     0.250519  \n",
       "5     0.438335  \n",
       "6     0.000108  \n",
       "7     0.079886  \n",
       "8     0.106635  \n",
       "9     0.059721  \n",
       "10    0.005381  "
      ]
     },
     "execution_count": 63,
     "metadata": {},
     "output_type": "execute_result"
    }
   ],
   "source": [
    "stats_df"
   ]
  },
  {
   "cell_type": "code",
   "execution_count": 86,
   "id": "23745634",
   "metadata": {},
   "outputs": [],
   "source": [
    "#Can make a sentence in first round\n",
    "prob_at_least_2_nouns = 1 - hypergeom.cdf(1, DEFAULT_WORD_COUNT, DEFAULT_DISTRIBUTION['OBJECT-NOUN'] + DEFAULT_DISTRIBUTION['SUBJECT - NOUN'],8)\n",
    "prob_at_least_1_verb = 1 - hypergeom.cdf(0, DEFAULT_WORD_COUNT, DEFAULT_DISTRIBUTION['action VERBS'] + DEFAULT_DISTRIBUTION['sative VERBS'],8)\n",
    "prob_at_least_1_adj = 1 - hypergeom.cdf(0, DEFAULT_WORD_COUNT, DEFAULT_DISTRIBUTION['ADJECTIVE'],8)\n",
    "prob_at_least_1_noun = 1 - hypergeom.cdf(0, DEFAULT_WORD_COUNT, DEFAULT_DISTRIBUTION['OBJECT-NOUN'] + DEFAULT_DISTRIBUTION['SUBJECT - NOUN'],8)\n",
    "prob_at_least_1_adv = 1 - hypergeom.cdf(0, DEFAULT_WORD_COUNT, DEFAULT_DISTRIBUTION['ADVERB'],8)"
   ]
  },
  {
   "cell_type": "code",
   "execution_count": 89,
   "id": "b569b6d2",
   "metadata": {},
   "outputs": [
    {
     "data": {
      "text/plain": [
       "0.9057303955869869"
      ]
     },
     "execution_count": 89,
     "metadata": {},
     "output_type": "execute_result"
    }
   ],
   "source": [
    "(prob_at_least_2_nouns * prob_at_least_1_verb) + (1-(prob_at_least_2_nouns * prob_at_least_1_verb)) * (prob_at_least_1_adj * prob_at_least_1_noun * prob_at_least_1_verb)"
   ]
  },
  {
   "cell_type": "code",
   "execution_count": 66,
   "id": "65fc6769",
   "metadata": {},
   "outputs": [],
   "source": [
    "N = 9\n",
    "rv = hypergeom(147,N,8)\n",
    "x = np.arange(0,N)\n",
    "pmf_gt = rv.pmf(x)"
   ]
  },
  {
   "cell_type": "code",
   "execution_count": 67,
   "id": "fcacc90b",
   "metadata": {},
   "outputs": [
    {
     "data": {
      "image/png": "[encoded data removed]",
      "text/plain": [
       "<Figure size 640x480 with 1 Axes>"
      ]
     },
     "metadata": {},
     "output_type": "display_data"
    }
   ],
   "source": [
    "fig = plt.figure()\n",
    "ax = fig.add_subplot(111)\n",
    "ax.plot(x, pmf_gt, 'bo')\n",
    "ax.vlines(x, 0, pmf_gt, lw=2)\n",
    "ax.set_xlabel('# of cards of given type in initial hand')\n",
    "ax.set_ylabel('hypergeom PMF')\n",
    "plt.show()"
   ]
  },
  {
   "cell_type": "markdown",
   "id": "ea8883e5",
   "metadata": {},
   "source": [
    "### Other card types"
   ]
  },
  {
   "cell_type": "markdown",
   "id": "c8b144e9",
   "metadata": {},
   "source": [
    "## Simulation"
   ]
  },
  {
   "cell_type": "code",
   "execution_count": 68,
   "id": "a0d03d9d",
   "metadata": {},
   "outputs": [],
   "source": [
    "words_dict = {}\n",
    "\n",
    "# Iterate through the word_dict and transform it into a better dictionary for choosing random words\n",
    "for word, word_type in word_dict.items():\n",
    "    if word_type not in words_dict:\n",
    "        words_dict[word_type] = [word]\n",
    "    else:\n",
    "        words_dict[word_type].append(word)"
   ]
  },
  {
   "cell_type": "code",
   "execution_count": 69,
   "id": "c602b0bf",
   "metadata": {},
   "outputs": [],
   "source": [
    "def create_card_pool(total_cards=DEFAULT_WORD_COUNT, distribution=DEFAULT_DISTRIBUTION, masks=True):\n",
    "    card_pool = []\n",
    "    for card_type, n in distribution.items():\n",
    "        # Calculate the number of cards for each type based on the percentage\n",
    "        num_cards = n\n",
    "        # Add cards of this type to the card pool\n",
    "        if masks:\n",
    "            card_pool.extend([card_type] * num_cards)\n",
    "        else:\n",
    "            twords = words_dict[card_type]\n",
    "            sublist = [(random.choice(twords),card_type) for _ in range(num_cards)]\n",
    "            card_pool.extend(sublist)\n",
    "        \n",
    "    return card_pool\n",
    "\n",
    "def round_simulation(card_pool, n_rounds=1000, cards_in_hand=10):\n",
    "    pass"
   ]
  },
  {
   "cell_type": "code",
   "execution_count": 70,
   "id": "f838a5be",
   "metadata": {},
   "outputs": [],
   "source": [
    "pool = create_card_pool(masks=False)"
   ]
  },
  {
   "cell_type": "code",
   "execution_count": 71,
   "id": "e7678937",
   "metadata": {},
   "outputs": [
    {
     "data": {
      "text/plain": [
       "[('a policeman', 'SUBJECT - NOUN'),\n",
       " ('a cowboy', 'SUBJECT - NOUN'),\n",
       " ('a princess', 'SUBJECT - NOUN'),\n",
       " ('an indian', 'SUBJECT - NOUN'),\n",
       " ('an angel', 'SUBJECT - NOUN'),\n",
       " ('a scientist', 'SUBJECT - NOUN'),\n",
       " ('a princess', 'SUBJECT - NOUN'),\n",
       " ('a postman', 'SUBJECT - NOUN'),\n",
       " ('a dwarf', 'SUBJECT - NOUN'),\n",
       " ('an indian', 'SUBJECT - NOUN'),\n",
       " ('a teacher', 'SUBJECT - NOUN'),\n",
       " ('a knight', 'SUBJECT - NOUN'),\n",
       " ('a doctor', 'SUBJECT - NOUN'),\n",
       " ('a cook', 'SUBJECT - NOUN'),\n",
       " ('a cowboy', 'SUBJECT - NOUN'),\n",
       " ('a ghost', 'SUBJECT - NOUN'),\n",
       " ('a witch', 'SUBJECT - NOUN'),\n",
       " ('a devil', 'SUBJECT - NOUN'),\n",
       " ('a pilot', 'SUBJECT - NOUN'),\n",
       " ('a policeman', 'SUBJECT - NOUN'),\n",
       " ('a witch', 'SUBJECT - NOUN'),\n",
       " ('a knight', 'SUBJECT - NOUN'),\n",
       " ('a dwarf', 'SUBJECT - NOUN'),\n",
       " ('a doctor', 'SUBJECT - NOUN'),\n",
       " ('an angel', 'SUBJECT - NOUN'),\n",
       " ('however', 'LINKING WORDS'),\n",
       " ('also', 'LINKING WORDS'),\n",
       " ('however', 'LINKING WORDS'),\n",
       " ('finally', 'LINKING WORDS'),\n",
       " ('to draw', 'action VERBS'),\n",
       " ('to bath', 'action VERBS'),\n",
       " ('to read', 'action VERBS'),\n",
       " ('to clean', 'action VERBS'),\n",
       " ('to write', 'action VERBS'),\n",
       " ('to watch', 'action VERBS'),\n",
       " ('to play', 'action VERBS'),\n",
       " ('to ride', 'action VERBS'),\n",
       " ('to draw', 'action VERBS'),\n",
       " ('to jump', 'action VERBS'),\n",
       " ('to eat', 'action VERBS'),\n",
       " ('to wash', 'action VERBS'),\n",
       " ('to clean', 'action VERBS'),\n",
       " ('to brush', 'action VERBS'),\n",
       " ('to sleep', 'action VERBS'),\n",
       " ('to walk', 'action VERBS'),\n",
       " ('to ride', 'action VERBS'),\n",
       " ('to dance', 'action VERBS'),\n",
       " ('to play', 'action VERBS'),\n",
       " ('to read', 'action VERBS'),\n",
       " ('to play', 'action VERBS'),\n",
       " ('to sleep', 'action VERBS'),\n",
       " ('to fix', 'action VERBS'),\n",
       " ('to fix', 'action VERBS'),\n",
       " ('to brush', 'action VERBS'),\n",
       " ('to run', 'action VERBS'),\n",
       " ('to jump', 'action VERBS'),\n",
       " ('to have', 'sative VERBS'),\n",
       " ('to be', 'sative VERBS'),\n",
       " ('to be', 'sative VERBS'),\n",
       " ('to be', 'sative VERBS'),\n",
       " ('to be', 'sative VERBS'),\n",
       " ('to have', 'sative VERBS'),\n",
       " ('to be', 'sative VERBS'),\n",
       " ('to have', 'sative VERBS'),\n",
       " ('can', 'modal VERBS'),\n",
       " ('can', 'modal VERBS'),\n",
       " ('must', 'modal VERBS'),\n",
       " ('should', 'modal VERBS'),\n",
       " ('must', 'modal VERBS'),\n",
       " ('not', 'negation'),\n",
       " ('not', 'negation'),\n",
       " ('not', 'negation'),\n",
       " ('a roof', 'OBJECT-NOUN'),\n",
       " ('a tank', 'OBJECT-NOUN'),\n",
       " ('a doughnut', 'OBJECT-NOUN'),\n",
       " ('a roof', 'OBJECT-NOUN'),\n",
       " ('a city', 'OBJECT-NOUN'),\n",
       " ('a ship', 'OBJECT-NOUN'),\n",
       " ('an ambulance', 'OBJECT-NOUN'),\n",
       " ('broccoli', 'OBJECT-NOUN'),\n",
       " ('a cactus', 'OBJECT-NOUN'),\n",
       " ('a guitar', 'OBJECT-NOUN'),\n",
       " ('a cookie', 'OBJECT-NOUN'),\n",
       " ('a chimney', 'OBJECT-NOUN'),\n",
       " ('a bridge', 'OBJECT-NOUN'),\n",
       " ('a van', 'OBJECT-NOUN'),\n",
       " ('a doughnut', 'OBJECT-NOUN'),\n",
       " ('the sea', 'OBJECT-NOUN'),\n",
       " ('a barn', 'OBJECT-NOUN'),\n",
       " ('a piano', 'OBJECT-NOUN'),\n",
       " ('a submarine', 'OBJECT-NOUN'),\n",
       " ('a church', 'OBJECT-NOUN'),\n",
       " ('a tank', 'OBJECT-NOUN'),\n",
       " ('a bicycle', 'OBJECT-NOUN'),\n",
       " ('a helicopter', 'OBJECT-NOUN'),\n",
       " ('a church', 'OBJECT-NOUN'),\n",
       " ('a guitar', 'OBJECT-NOUN'),\n",
       " ('the sky', 'OBJECT-NOUN'),\n",
       " ('a christmas tree', 'OBJECT-NOUN'),\n",
       " ('a castle', 'OBJECT-NOUN'),\n",
       " ('cheese', 'OBJECT-NOUN'),\n",
       " ('a submarine', 'OBJECT-NOUN'),\n",
       " ('in front of', 'PREPOSITON'),\n",
       " ('in', 'PREPOSITON'),\n",
       " ('with', 'PREPOSITON'),\n",
       " ('from', 'PREPOSITON'),\n",
       " ('to', 'PREPOSITON'),\n",
       " ('next to', 'PREPOSITON'),\n",
       " ('behind', 'PREPOSITON'),\n",
       " ('in', 'PREPOSITON'),\n",
       " ('to', 'PREPOSITON'),\n",
       " ('When the sun smiled', 'TIME ADVERB'),\n",
       " ('Once upon a time', 'TIME ADVERB'),\n",
       " ('When everyone sleeps', 'TIME ADVERB'),\n",
       " ('When all the food is eaten', 'TIME ADVERB'),\n",
       " ('Once upon a time', 'TIME ADVERB'),\n",
       " ('Ages ago', 'TIME ADVERB'),\n",
       " ('When the sun smiled', 'TIME ADVERB'),\n",
       " ('Once upon a time', 'TIME ADVERB'),\n",
       " ('marvellously', 'ADVERB'),\n",
       " ('angrily', 'ADVERB'),\n",
       " ('angrily', 'ADVERB'),\n",
       " ('awfully', 'ADVERB'),\n",
       " ('sadly', 'ADVERB'),\n",
       " ('wonderfully', 'ADVERB'),\n",
       " ('sadly', 'ADVERB'),\n",
       " ('marvellously', 'ADVERB'),\n",
       " ('awfully', 'ADVERB'),\n",
       " ('marvellously', 'ADVERB'),\n",
       " ('red', 'ADJECTIVE'),\n",
       " ('marvellous', 'ADJECTIVE'),\n",
       " ('clean', 'ADJECTIVE'),\n",
       " ('wonderful', 'ADJECTIVE'),\n",
       " ('cold', 'ADJECTIVE'),\n",
       " ('red', 'ADJECTIVE'),\n",
       " ('orange', 'ADJECTIVE'),\n",
       " ('orange', 'ADJECTIVE'),\n",
       " ('angry', 'ADJECTIVE'),\n",
       " ('happy', 'ADJECTIVE'),\n",
       " ('marvellous', 'ADJECTIVE'),\n",
       " ('purple', 'ADJECTIVE'),\n",
       " ('purple', 'ADJECTIVE'),\n",
       " ('ugly', 'ADJECTIVE'),\n",
       " ('ninety-nine', 'ADJECTIVE'),\n",
       " ('happy', 'ADJECTIVE'),\n",
       " ('marvellous', 'ADJECTIVE'),\n",
       " ('dirty', 'ADJECTIVE')]"
      ]
     },
     "execution_count": 71,
     "metadata": {},
     "output_type": "execute_result"
    }
   ],
   "source": [
    "pool"
   ]
  },
  {
   "cell_type": "code",
   "execution_count": 74,
   "id": "2ad5d14c",
   "metadata": {},
   "outputs": [
    {
     "data": {
      "text/plain": [
       "[('an indian', 'SUBJECT - NOUN'),\n",
       " ('to draw', 'action VERBS'),\n",
       " ('a knight', 'SUBJECT - NOUN'),\n",
       " ('a doctor', 'SUBJECT - NOUN'),\n",
       " ('to be', 'sative VERBS'),\n",
       " ('a doctor', 'SUBJECT - NOUN'),\n",
       " ('angry', 'ADJECTIVE'),\n",
       " ('a dwarf', 'SUBJECT - NOUN'),\n",
       " ('to watch', 'action VERBS'),\n",
       " ('a guitar', 'OBJECT-NOUN')]"
      ]
     },
     "execution_count": 74,
     "metadata": {},
     "output_type": "execute_result"
    }
   ],
   "source": [
    "random.choices(pool,k=10)"
   ]
  },
  {
   "cell_type": "code",
   "execution_count": null,
   "id": "bbd6d53c",
   "metadata": {},
   "outputs": [],
   "source": []
  }
 ],
 "metadata": {
  "kernelspec": {
   "display_name": "Python 3 (ipykernel)",
   "language": "python",
   "name": "python3"
  },
  "language_info": {
   "codemirror_mode": {
    "name": "ipython",
    "version": 3
   },
   "file_extension": ".py",
   "mimetype": "text/x-python",
   "name": "python",
   "nbconvert_exporter": "python",
   "pygments_lexer": "ipython3",
   "version": "3.9.9"
  }
 },
 "nbformat": 4,
 "nbformat_minor": 5
}
